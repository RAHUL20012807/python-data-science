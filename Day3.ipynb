{
  "nbformat": 4,
  "nbformat_minor": 0,
  "metadata": {
    "colab": {
      "name": "Day3.ipynb",
      "provenance": [],
      "authorship_tag": "ABX9TyP5F6Hyx5vvIq8Kje30KjX4",
      "include_colab_link": true
    },
    "kernelspec": {
      "name": "python3",
      "display_name": "Python 3"
    },
    "language_info": {
      "name": "python"
    }
  },
  "cells": [
    {
      "cell_type": "markdown",
      "metadata": {
        "id": "view-in-github",
        "colab_type": "text"
      },
      "source": [
        "<a href=\"https://colab.research.google.com/github/RAHUL20012807/python-data-science/blob/main/Day3.ipynb\" target=\"_parent\"><img src=\"https://colab.research.google.com/assets/colab-badge.svg\" alt=\"Open In Colab\"/></a>"
      ]
    },
    {
      "cell_type": "code",
      "metadata": {
        "id": "yNM5SN2BIftF"
      },
      "source": [
        "import pandas as pd"
      ],
      "execution_count": null,
      "outputs": []
    },
    {
      "cell_type": "code",
      "metadata": {
        "id": "7Tm7X9SMIqC1"
      },
      "source": [
        " df=pd.read_csv('https://download.bls.gov/pub/time.series/cu/cu.item',\n",
        "                 sep='\\t')"
      ],
      "execution_count": null,
      "outputs": []
    },
    {
      "cell_type": "code",
      "metadata": {
        "id": "iQQYJbr4IsEx",
        "colab": {
          "base_uri": "https://localhost:8080/",
          "height": 755
        },
        "outputId": "ac6c2a72-033d-4783-ba0a-d9e2c964cbba"
      },
      "source": [
        "df"
      ],
      "execution_count": null,
      "outputs": [
        {
          "output_type": "execute_result",
          "data": {
            "text/html": [
              "<div>\n",
              "<style scoped>\n",
              "    .dataframe tbody tr th:only-of-type {\n",
              "        vertical-align: middle;\n",
              "    }\n",
              "\n",
              "    .dataframe tbody tr th {\n",
              "        vertical-align: top;\n",
              "    }\n",
              "\n",
              "    .dataframe thead th {\n",
              "        text-align: right;\n",
              "    }\n",
              "</style>\n",
              "<table border=\"1\" class=\"dataframe\">\n",
              "  <thead>\n",
              "    <tr style=\"text-align: right;\">\n",
              "      <th></th>\n",
              "      <th>item_code</th>\n",
              "      <th>item_name</th>\n",
              "      <th>display_level</th>\n",
              "      <th>selectable</th>\n",
              "      <th>sort_sequence</th>\n",
              "    </tr>\n",
              "  </thead>\n",
              "  <tbody>\n",
              "    <tr>\n",
              "      <th>0</th>\n",
              "      <td>AA0</td>\n",
              "      <td>All items - old base</td>\n",
              "      <td>0</td>\n",
              "      <td>T</td>\n",
              "      <td>2</td>\n",
              "    </tr>\n",
              "    <tr>\n",
              "      <th>1</th>\n",
              "      <td>AA0R</td>\n",
              "      <td>Purchasing power of the consumer dollar - old ...</td>\n",
              "      <td>0</td>\n",
              "      <td>T</td>\n",
              "      <td>399</td>\n",
              "    </tr>\n",
              "    <tr>\n",
              "      <th>2</th>\n",
              "      <td>SA0</td>\n",
              "      <td>All items</td>\n",
              "      <td>0</td>\n",
              "      <td>T</td>\n",
              "      <td>1</td>\n",
              "    </tr>\n",
              "    <tr>\n",
              "      <th>3</th>\n",
              "      <td>SA0E</td>\n",
              "      <td>Energy</td>\n",
              "      <td>1</td>\n",
              "      <td>T</td>\n",
              "      <td>374</td>\n",
              "    </tr>\n",
              "    <tr>\n",
              "      <th>4</th>\n",
              "      <td>SA0L1</td>\n",
              "      <td>All items less food</td>\n",
              "      <td>1</td>\n",
              "      <td>T</td>\n",
              "      <td>358</td>\n",
              "    </tr>\n",
              "    <tr>\n",
              "      <th>...</th>\n",
              "      <td>...</td>\n",
              "      <td>...</td>\n",
              "      <td>...</td>\n",
              "      <td>...</td>\n",
              "      <td>...</td>\n",
              "    </tr>\n",
              "    <tr>\n",
              "      <th>394</th>\n",
              "      <td>SS68023</td>\n",
              "      <td>Tax return preparation and other accounting fees</td>\n",
              "      <td>4</td>\n",
              "      <td>T</td>\n",
              "      <td>352</td>\n",
              "    </tr>\n",
              "    <tr>\n",
              "      <th>395</th>\n",
              "      <td>SSEA011</td>\n",
              "      <td>College textbooks</td>\n",
              "      <td>3</td>\n",
              "      <td>T</td>\n",
              "      <td>314</td>\n",
              "    </tr>\n",
              "    <tr>\n",
              "      <th>396</th>\n",
              "      <td>SSFV031A</td>\n",
              "      <td>Food at elementary and secondary schools</td>\n",
              "      <td>3</td>\n",
              "      <td>T</td>\n",
              "      <td>122</td>\n",
              "    </tr>\n",
              "    <tr>\n",
              "      <th>397</th>\n",
              "      <td>SSGE013</td>\n",
              "      <td>Infants' equipment</td>\n",
              "      <td>3</td>\n",
              "      <td>T</td>\n",
              "      <td>355</td>\n",
              "    </tr>\n",
              "    <tr>\n",
              "      <th>398</th>\n",
              "      <td>SSHJ031</td>\n",
              "      <td>Infants' furniture</td>\n",
              "      <td>3</td>\n",
              "      <td>T</td>\n",
              "      <td>165</td>\n",
              "    </tr>\n",
              "  </tbody>\n",
              "</table>\n",
              "<p>399 rows × 5 columns</p>\n",
              "</div>"
            ],
            "text/plain": [
              "    item_code  ... sort_sequence\n",
              "0         AA0  ...             2\n",
              "1        AA0R  ...           399\n",
              "2         SA0  ...             1\n",
              "3        SA0E  ...           374\n",
              "4       SA0L1  ...           358\n",
              "..        ...  ...           ...\n",
              "394   SS68023  ...           352\n",
              "395   SSEA011  ...           314\n",
              "396  SSFV031A  ...           122\n",
              "397   SSGE013  ...           355\n",
              "398   SSHJ031  ...           165\n",
              "\n",
              "[399 rows x 5 columns]"
            ]
          },
          "metadata": {},
          "execution_count": 3
        }
      ]
    }
  ]
}